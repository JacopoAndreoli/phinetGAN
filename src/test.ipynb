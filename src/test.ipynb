{
 "cells": [
  {
   "cell_type": "code",
   "execution_count": 1,
   "metadata": {},
   "outputs": [],
   "source": [
    "from phinetGAN_decoder import *"
   ]
  },
  {
   "cell_type": "code",
   "execution_count": 2,
   "metadata": {},
   "outputs": [
    {
     "name": "stdout",
     "output_type": "stream",
     "text": [
      "torch.Size([2, 4, 3])\n",
      "tensor([[[0.9999, 0.7367, 0.6303],\n",
      "         [0.6692, 0.6579, 0.7278],\n",
      "         [0.9906, 0.1761, 0.2669],\n",
      "         [0.7296, 0.3172, 0.3540]],\n",
      "\n",
      "        [[0.9060, 0.7856, 0.2091],\n",
      "         [0.2543, 0.9494, 0.4406],\n",
      "         [0.1850, 0.5336, 0.7379],\n",
      "         [0.7155, 0.5135, 0.1579]]])\n"
     ]
    }
   ],
   "source": [
    "sample = torch.rand(2, 4, 3)\n",
    "sample_shape = sample.shape\n",
    "print(sample_shape)\n",
    "print(sample)"
   ]
  },
  {
   "cell_type": "code",
   "execution_count": 4,
   "metadata": {},
   "outputs": [
    {
     "name": "stdout",
     "output_type": "stream",
     "text": [
      "\n",
      "====== PointwiseConv operation ======\n",
      "input_shape: torch.Size([2, 4, 3])\n",
      "output_shape: torch.Size([1, 4, 3])\n",
      "tensor([[[0.6060, 0.5142, 0.1745],\n",
      "         [0.2038, 0.6012, 0.3156],\n",
      "         [0.1919, 0.3211, 0.4461],\n",
      "         [0.4734, 0.3218, 0.1212]]], grad_fn=<HardtanhBackward0>)\n",
      "\n",
      "====== Bilinear operation (align_corners = True) ======\n",
      "input_shape: torch.Size([1, 4, 3])\n",
      "output_shape: torch.Size([1, 8, 6])\n",
      "tensor([[[0.6060, 0.5693, 0.5325, 0.4462, 0.3104, 0.1745],\n",
      "         [0.4336, 0.4808, 0.5279, 0.4882, 0.3616, 0.2350],\n",
      "         [0.2612, 0.3922, 0.5232, 0.5301, 0.4128, 0.2955],\n",
      "         [0.2004, 0.3287, 0.4570, 0.4875, 0.4202, 0.3529],\n",
      "         [0.1953, 0.2776, 0.3600, 0.4027, 0.4057, 0.4088],\n",
      "         [0.2321, 0.2678, 0.3034, 0.3369, 0.3683, 0.3997],\n",
      "         [0.3527, 0.3402, 0.3278, 0.3093, 0.2849, 0.2604],\n",
      "         [0.4734, 0.4127, 0.3521, 0.2817, 0.2014, 0.1212]]],\n",
      "       grad_fn=<SqueezeBackward1>)\n",
      "\n",
      "====== conv2D operation (PAD = True) ======\n",
      "input_shape: torch.Size([1, 8, 6])\n",
      "output_shape: torch.Size([1, 8, 6])\n",
      "tensor([[[0.1387, 0.3346, 0.3706, 0.3786, 0.3212, 0.2375],\n",
      "         [0.3210, 0.4908, 0.5690, 0.5869, 0.4887, 0.3568],\n",
      "         [0.2219, 0.3829, 0.5091, 0.5695, 0.5051, 0.4139],\n",
      "         [0.1569, 0.3228, 0.4514, 0.5176, 0.4872, 0.4598],\n",
      "         [0.1524, 0.3106, 0.3965, 0.4419, 0.4391, 0.4749],\n",
      "         [0.1942, 0.3569, 0.3851, 0.3947, 0.3858, 0.4218],\n",
      "         [0.2509, 0.4268, 0.4048, 0.3788, 0.3444, 0.3161],\n",
      "         [0.1456, 0.1975, 0.1907, 0.1816, 0.1675, 0.1372]]],\n",
      "       grad_fn=<HardtanhBackward0>)\n"
     ]
    }
   ],
   "source": [
    "model = PhinetGanBlock(sample_shape, \n",
    "                       expansion = 2, \n",
    "                       filters = sample_shape[0]//2, \n",
    "                       k_size = 3, \n",
    "                       up_factor = 2,\n",
    "                       debug = True)\n",
    "\n",
    "pred = model(sample)"
   ]
  },
  {
   "cell_type": "code",
   "execution_count": 5,
   "metadata": {},
   "outputs": [
    {
     "name": "stdout",
     "output_type": "stream",
     "text": [
      "torch.Size([64, 25, 25])\n"
     ]
    }
   ],
   "source": [
    "sample = torch.rand(64, 25, 25)\n",
    "sample_shape = sample.shape\n",
    "print(sample_shape)"
   ]
  },
  {
   "cell_type": "code",
   "execution_count": 8,
   "metadata": {},
   "outputs": [
    {
     "data": {
      "text/plain": [
       "torch.Size([3, 400, 400])"
      ]
     },
     "execution_count": 8,
     "metadata": {},
     "output_type": "execute_result"
    }
   ],
   "source": [
    "model = phinectGanDecoder(sample_shape, alpha = 1, expansion = 4, k_size = 3, up_factor = 2, debug = False)\n",
    "pred = model(sample)\n",
    "pred.shape"
   ]
  }
 ],
 "metadata": {
  "kernelspec": {
   "display_name": "Python 3",
   "language": "python",
   "name": "python3"
  },
  "language_info": {
   "codemirror_mode": {
    "name": "ipython",
    "version": 3
   },
   "file_extension": ".py",
   "mimetype": "text/x-python",
   "name": "python",
   "nbconvert_exporter": "python",
   "pygments_lexer": "ipython3",
   "version": "3.8.10"
  },
  "orig_nbformat": 4
 },
 "nbformat": 4,
 "nbformat_minor": 2
}
